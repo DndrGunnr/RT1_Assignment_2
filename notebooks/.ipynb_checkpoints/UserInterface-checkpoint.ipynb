{
 "cells": [
  {
   "cell_type": "markdown",
   "id": "df19b34e",
   "metadata": {},
   "source": [
    "Jupyter notebook to implement user interface with ROS for Assignment 2"
   ]
  },
  {
   "cell_type": "code",
   "execution_count": 4,
   "id": "00d10e2e",
   "metadata": {},
   "outputs": [
    {
     "data": {
      "text/plain": [
       "True"
      ]
     },
     "execution_count": 4,
     "metadata": {},
     "output_type": "execute_result"
    }
   ],
   "source": [
    "import rospy\n",
    "from ipywidgets import Button,Layout,GridBox,HBox, VBox, Output\n",
    "import ipywidgets as widgets\n",
    "import assign_2.msg\n",
    "import actionlib\n",
    "import actionlib.msg\n",
    "import time\n",
    "from IPython.display import display\n",
    "rospy.init_node(\"interface\")\n",
    "client = actionlib.SimpleActionClient('/reaching_goal', assign_2.msg.PlanningAction)\n",
    "client.wait_for_server()\n"
   ]
  },
  {
   "cell_type": "markdown",
   "id": "da587389",
   "metadata": {},
   "source": [
    "user interface logic"
   ]
  },
  {
   "cell_type": "code",
   "execution_count": 5,
   "id": "917d37cf",
   "metadata": {},
   "outputs": [],
   "source": [
    "def interface_behaviour(selector):\n",
    "    if selector:\n",
    "        x_coord.disabled=False\n",
    "        y_coord.disabled=False\n",
    "        submit_b.disabled=False\n",
    "        cancel_b.disabled=True\n",
    "\n",
    "    else:\n",
    "        x_coord.disabled=True\n",
    "        y_coord.disabled=True\n",
    "        submit_b.disabled=True\n",
    "        cancel_b.disabled=False\n",
    "        \n",
    "def feedback_clbk(feedback):\n",
    "    if feedback.stat==\"Target reached!\":\n",
    "        interface_behaviour(True)\n",
    "        with out:\n",
    "            print(feedback.stat)\n",
    "            \n",
    "def submit_button_clck(_):\n",
    "    goal = assign_2.msg.PlanningGoal()\n",
    "    goal.target_pose.pose.position.x=float(x_coord.value)\n",
    "    goal.target_pose.pose.position.y=float(y_coord.value)\n",
    "    client.send_goal(goal, feedback_cb=feedback_clbk)\n",
    "    interface_behaviour(False)\n",
    "    with out:\n",
    "        print(x_coord.value)\n",
    "        print(y_coord.value)\n",
    "\n",
    "def cancel_button_clck(_):\n",
    "    client.cancel_goal()\n",
    "    interface_behaviour(True)"
   ]
  },
  {
   "cell_type": "markdown",
   "id": "b16e21ef",
   "metadata": {},
   "source": [
    "user interface code"
   ]
  },
  {
   "cell_type": "code",
   "execution_count": 6,
   "id": "2225f17b",
   "metadata": {},
   "outputs": [
    {
     "data": {
      "application/vnd.jupyter.widget-view+json": {
       "model_id": "2d983b6e44f7405ba6424ef595c69afc",
       "version_major": 2,
       "version_minor": 0
      },
      "text/plain": [
       "VBox(children=(HBox(children=(Text(value='', description='X:', placeholder='Write x coordinate!'), Text(value=…"
      ]
     },
     "metadata": {},
     "output_type": "display_data"
    }
   ],
   "source": [
    "x_coord = widgets.Text(\n",
    "    placeholder='Write x coordinate!',\n",
    "    description='X:',\n",
    "    disabled=False)\n",
    "y_coord = widgets.Text(\n",
    "    placeholder='Write y coordinate!',\n",
    "    description='Y:',\n",
    "    disabled=False)\n",
    "submit_b = widgets.Button(\n",
    "    description='Submit coords',\n",
    "    button_style='success',\n",
    "    disabled=False)\n",
    "cancel_b = widgets.Button(\n",
    "    description='Cancel goal',\n",
    "    button_style='danger',\n",
    "    disabled=True)\n",
    "\n",
    "out = widgets.Output()\n",
    "submit_b.on_click(submit_button_clck)\n",
    "cancel_b.on_click(cancel_button_clck)\n",
    "VBox([HBox([x_coord,y_coord]),HBox([submit_b,cancel_b]),out])\n"
   ]
  },
  {
   "cell_type": "code",
   "execution_count": null,
   "id": "560c4e1f",
   "metadata": {},
   "outputs": [],
   "source": []
  },
  {
   "cell_type": "code",
   "execution_count": null,
   "id": "d2cf3a18",
   "metadata": {},
   "outputs": [],
   "source": []
  }
 ],
 "metadata": {
  "kernelspec": {
   "display_name": "Python 3 (ipykernel)",
   "language": "python",
   "name": "python3"
  },
  "language_info": {
   "codemirror_mode": {
    "name": "ipython",
    "version": 3
   },
   "file_extension": ".py",
   "mimetype": "text/x-python",
   "name": "python",
   "nbconvert_exporter": "python",
   "pygments_lexer": "ipython3",
   "version": "3.8.5"
  }
 },
 "nbformat": 4,
 "nbformat_minor": 5
}
